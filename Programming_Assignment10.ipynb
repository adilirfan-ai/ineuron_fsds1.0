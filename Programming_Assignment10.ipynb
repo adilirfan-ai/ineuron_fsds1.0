{
 "cells": [
  {
   "cell_type": "markdown",
   "id": "347b1a6a",
   "metadata": {},
   "source": [
    "# 1. Write a Python program to find sum of elements in list?"
   ]
  },
  {
   "cell_type": "code",
   "execution_count": 1,
   "id": "afba45dd",
   "metadata": {},
   "outputs": [
    {
     "name": "stdout",
     "output_type": "stream",
     "text": [
      "enter the values in the list:1,2,3,4,5\n",
      "The sum of the elements in the list is: 15\n"
     ]
    }
   ],
   "source": [
    "user_list = input(\"enter the values in the list:\").split(',')\n",
    "int_list = [int(x) for x in user_list]\n",
    "total = 0\n",
    "\n",
    "for i in int_list:\n",
    "    total += i\n",
    "print(\"The sum of the elements in the list is:\",total)    "
   ]
  },
  {
   "cell_type": "markdown",
   "id": "b8dbdcee",
   "metadata": {},
   "source": [
    "# 2. Write a Python program to Multiply all numbers in the list?"
   ]
  },
  {
   "cell_type": "code",
   "execution_count": 2,
   "id": "8ac78175",
   "metadata": {},
   "outputs": [
    {
     "name": "stdout",
     "output_type": "stream",
     "text": [
      "enter the values in the list:1,2,3,4,5,6\n",
      "The sum of the elements in the list is: 720\n"
     ]
    }
   ],
   "source": [
    "user_list = input(\"enter the values in the list:\").split(',')\n",
    "int_list = [int(x) for x in user_list]\n",
    "product = 1\n",
    "\n",
    "for i in int_list:\n",
    "    product *= i\n",
    "print(\"The sum of the elements in the list is:\",product) "
   ]
  },
  {
   "cell_type": "markdown",
   "id": "4a9c2c5c",
   "metadata": {},
   "source": [
    "# 3. Write a Python program to find smallest number in a list?"
   ]
  },
  {
   "cell_type": "code",
   "execution_count": 3,
   "id": "c3050ca2",
   "metadata": {},
   "outputs": [
    {
     "name": "stdout",
     "output_type": "stream",
     "text": [
      "Enter the elements in the list:45,23,76,12,67\n",
      "The list is  [45, 23, 76, 12, 67]\n",
      "The smallest element in the list is  12\n"
     ]
    }
   ],
   "source": [
    "l=[ int(l) for l in input(\"Enter the elements in the list:\").split(\",\")]\n",
    "print(\"The list is \",l)\n",
    " \n",
    "min = l[0]\n",
    " \n",
    "for i in range(len(l)):\n",
    "    if l[i] < min:\n",
    "        min = l[i]\n",
    " \n",
    "print(\"The smallest element in the list is \",min)"
   ]
  },
  {
   "cell_type": "markdown",
   "id": "6fe6efd3",
   "metadata": {},
   "source": [
    "# 4. Write a Python program to find largest number in a list?"
   ]
  },
  {
   "cell_type": "code",
   "execution_count": 6,
   "id": "6b09566a",
   "metadata": {},
   "outputs": [
    {
     "name": "stdout",
     "output_type": "stream",
     "text": [
      "Enter the elements in the list:98,65,32,12,99\n",
      "The list is  [98, 65, 32, 12, 99]\n",
      "The largest element in the list is  99\n"
     ]
    }
   ],
   "source": [
    "l=[ int(l) for l in input(\"Enter the elements in the list:\").split(\",\")]\n",
    "print(\"The list is \",l) \n",
    "mxn = l[0]\n",
    " \n",
    "for i in range(len(l)):\n",
    "    if l[i] > mx:\n",
    "        mx = l[i]\n",
    " \n",
    "print(\"The largest element in the list is \",mx)"
   ]
  },
  {
   "cell_type": "markdown",
   "id": "8c0daf79",
   "metadata": {},
   "source": [
    "# 5. Write a Python program to find second largest number in a list?"
   ]
  },
  {
   "cell_type": "code",
   "execution_count": 8,
   "id": "ca06d4a4",
   "metadata": {},
   "outputs": [
    {
     "name": "stdout",
     "output_type": "stream",
     "text": [
      "List:76,15,79,96,85,35,46\n",
      "List after sorting: [15, 35, 46, 76, 79, 85, 96]\n",
      "The second largest element in the list: 35\n"
     ]
    }
   ],
   "source": [
    "l=[ int(l) for l in input(\"List:\").split(\",\")]\n",
    "l.sort()\n",
    "print(\"List after sorting:\",l)\n",
    "second_elem = l[1]\n",
    "\n",
    "print(\"The second largest element in the list:\",second_elem)"
   ]
  },
  {
   "cell_type": "markdown",
   "id": "9f3a35a2",
   "metadata": {},
   "source": [
    "# 6. Write a Python program to find N largest elements from a list?"
   ]
  },
  {
   "cell_type": "code",
   "execution_count": 15,
   "id": "4aa6a97c",
   "metadata": {},
   "outputs": [
    {
     "name": "stdout",
     "output_type": "stream",
     "text": [
      "enter the elements in the list:98,45,78,63,35,12,29\n",
      "Enter N:3\n",
      "3 max elements in  [98, 45, 78, 63, 35, 12, 29]\n",
      "[63, 78, 98]\n"
     ]
    }
   ],
   "source": [
    "def N_max_elements(list, N):\n",
    "    list.sort()     \n",
    "    return list[-N: ]\n",
    "\n",
    "li=[int(x) for x in (input(\"enter the elements in the list:\").split(','))]\n",
    "n=int(input(\"Enter N:\"))\n",
    "\n",
    "print(n, \"max elements in \",li)\n",
    "print(N_max_elements(li, n))"
   ]
  },
  {
   "cell_type": "markdown",
   "id": "74bfd9cd",
   "metadata": {},
   "source": [
    "# 7. Write a Python program to print even numbers in a list?"
   ]
  },
  {
   "cell_type": "code",
   "execution_count": 10,
   "id": "6ed022d6",
   "metadata": {},
   "outputs": [
    {
     "name": "stdout",
     "output_type": "stream",
     "text": [
      "enter the elements in the list:98,69,43,90,32,44,13\n",
      "Even numbers in list: [98, 69, 43, 90, 32, 44, 13] is\n",
      "[98, 90, 32, 44]\n"
     ]
    }
   ],
   "source": [
    "def even(list):\n",
    "    new_list=[]\n",
    "    for i in list:\n",
    "        if i%2==0:               \n",
    "            new_list.append(i)\n",
    "    return new_list\n",
    "\n",
    "l2 = [int(x) for x in (input(\"enter the elements in the list:\").split(','))]\n",
    "\n",
    "print(\"Even numbers in list:\",l2,'is')\n",
    "print(even(l2))"
   ]
  },
  {
   "cell_type": "markdown",
   "id": "d838638b",
   "metadata": {},
   "source": [
    "# 8. Write a Python program to print odd numbers in a List?"
   ]
  },
  {
   "cell_type": "code",
   "execution_count": 11,
   "id": "c45a12c5",
   "metadata": {},
   "outputs": [
    {
     "name": "stdout",
     "output_type": "stream",
     "text": [
      "enter the elements in the list:93,53,35,36,16,80\n",
      "Odd numbers in list: [93, 53, 35, 36, 16, 80] is\n",
      "[93, 53, 35]\n"
     ]
    }
   ],
   "source": [
    "def odd(list):\n",
    "    new_list=[]\n",
    "    for i in list:\n",
    "        if i%2 != 0:               \n",
    "            new_list.append(i)\n",
    "    return new_list\n",
    "\n",
    "l2 = [int(x) for x in (input(\"enter the elements in the list:\").split(','))]\n",
    "\n",
    "print(\"Odd numbers in list:\",l2,'is')\n",
    "print(odd(l2))"
   ]
  },
  {
   "cell_type": "markdown",
   "id": "d81ff00e",
   "metadata": {},
   "source": [
    "# 9. Write a Python program to Remove empty List from List?"
   ]
  },
  {
   "cell_type": "code",
   "execution_count": 12,
   "id": "92c28d9a",
   "metadata": {},
   "outputs": [
    {
     "name": "stdout",
     "output_type": "stream",
     "text": [
      "The original list is:[5, 6, [], 3, [], [], 9]\n",
      "List after empty list removal:[5, 6, 3, 9]\n"
     ]
    }
   ],
   "source": [
    "test_list = [5, 6, [], 3, [], [], 9]\n",
    "print(\"The original list is:\" + str(test_list))\n",
    " \n",
    "while [] in test_list :\n",
    "    test_list.remove([])\n",
    " \n",
    "print(\"List after empty list removal:\" + str(test_list))"
   ]
  },
  {
   "cell_type": "markdown",
   "id": "34b09014",
   "metadata": {},
   "source": [
    "# 10. Write a Python program to Cloning or Copying a list?"
   ]
  },
  {
   "cell_type": "code",
   "execution_count": 13,
   "id": "be6c27c1",
   "metadata": {},
   "outputs": [
    {
     "name": "stdout",
     "output_type": "stream",
     "text": [
      "Enter the elements in the list:12,45,98,56\n",
      "After cloning:  [12, 45, 98, 56]\n"
     ]
    }
   ],
   "source": [
    "li = [int(num) for num in (input('Enter the elements in the list:').split(','))]\n",
    "list_copy = [ num for num in li ]\n",
    "\n",
    "print(\"After cloning: \",list_copy)"
   ]
  },
  {
   "cell_type": "markdown",
   "id": "a6d058c9",
   "metadata": {},
   "source": [
    "# 11. Write a Python program to Count occurrences of an element in a list?"
   ]
  },
  {
   "cell_type": "code",
   "execution_count": 14,
   "id": "0ce3768c",
   "metadata": {},
   "outputs": [
    {
     "name": "stdout",
     "output_type": "stream",
     "text": [
      "enter the elements in the list:15,78,6,45,6,98,54,6,78\n",
      "Original list:  [15, 78, 6, 45, 6, 98, 54, 6, 78]\n",
      "Enter element to be checked list: 6\n",
      "6  has occurred  3 times\n"
     ]
    }
   ],
   "source": [
    "li = [int(num) for num in (input(\"enter the elements in the list:\").split(','))]\n",
    "print(\"Original list: \",li)\n",
    "\n",
    "n=int(input(\"Enter element to be checked list: \"))\n",
    "num_of_element = li.count(n)\n",
    "print(n,\" has occurred \",num_of_element,\"times\")"
   ]
  },
  {
   "cell_type": "code",
   "execution_count": null,
   "id": "a87dc3cd",
   "metadata": {},
   "outputs": [],
   "source": []
  }
 ],
 "metadata": {
  "kernelspec": {
   "display_name": "Python 3 (ipykernel)",
   "language": "python",
   "name": "python3"
  },
  "language_info": {
   "codemirror_mode": {
    "name": "ipython",
    "version": 3
   },
   "file_extension": ".py",
   "mimetype": "text/x-python",
   "name": "python",
   "nbconvert_exporter": "python",
   "pygments_lexer": "ipython3",
   "version": "3.9.12"
  }
 },
 "nbformat": 4,
 "nbformat_minor": 5
}
