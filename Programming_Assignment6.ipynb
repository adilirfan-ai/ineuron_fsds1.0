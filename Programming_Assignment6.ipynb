{
 "cells": [
  {
   "cell_type": "markdown",
   "id": "2d55c3e7",
   "metadata": {},
   "source": [
    "# 1. Write a Python Program to Display Fibonacci Sequence Using Recursion?"
   ]
  },
  {
   "cell_type": "code",
   "execution_count": 5,
   "id": "3df78700",
   "metadata": {},
   "outputs": [
    {
     "name": "stdout",
     "output_type": "stream",
     "text": [
      "enter number of terms positive value:14\n",
      "0 1 1 2 3 5 8 13 21 34 55 89 144 233 "
     ]
    }
   ],
   "source": [
    "def recur_fibo(n):\n",
    "   if n <= 1:\n",
    "       return n\n",
    "   else:\n",
    "       return(recur_fibo(n-1) + recur_fibo(n-2))\n",
    "\n",
    "nterms = int(input(\"enter number of terms positive value:\"))\n",
    "if True:\n",
    "   for i in range(nterms):\n",
    "       print(recur_fibo(i),end=' ')"
   ]
  },
  {
   "cell_type": "markdown",
   "id": "4a85d5ba",
   "metadata": {},
   "source": [
    "# 2. Write a Python Program to Find Factorial of Number Using Recursion?"
   ]
  },
  {
   "cell_type": "code",
   "execution_count": 6,
   "id": "bb94325e",
   "metadata": {},
   "outputs": [
    {
     "name": "stdout",
     "output_type": "stream",
     "text": [
      "enter the value:7\n",
      "The factorial of 7 is 5040\n"
     ]
    }
   ],
   "source": [
    "def recur_factorial(n):\n",
    "   if n == 1:\n",
    "       return n\n",
    "   else:\n",
    "       return n*recur_factorial(n-1)\n",
    "\n",
    "num = int(input(\"enter the value:\"))\n",
    "\n",
    "if num < 0:\n",
    "   print(\"factorial does not exist for negative numbers\")\n",
    "elif num == 0:\n",
    "   print(\"The factorial of 0 is 1\")\n",
    "else:\n",
    "   print(\"The factorial of\", num, \"is\", recur_factorial(num))"
   ]
  },
  {
   "cell_type": "markdown",
   "id": "106a9a3f",
   "metadata": {},
   "source": [
    "# 3. Write a Python Program to calculate your Body Mass Index?"
   ]
  },
  {
   "cell_type": "code",
   "execution_count": 10,
   "id": "a1770fa5",
   "metadata": {},
   "outputs": [
    {
     "name": "stdout",
     "output_type": "stream",
     "text": [
      "Enter the height in cm: 170\n",
      "Enter the weight in kg: 75\n",
      "Your Body Mass Index is 25.95155709342561\n",
      "You are over weight.\n"
     ]
    }
   ],
   "source": [
    "  \n",
    "ht = float(input(\"Enter the height in cm: \"))  \n",
    "wt = float(input(\"Enter the weight in kg: \"))  \n",
    "\n",
    "BMI = wt / (ht/100)**2  \n",
    "\n",
    "print(\"Your Body Mass Index is\", BMI)  \n",
    "\n",
    "if BMI <= 18.5:  \n",
    "    print(\"You are underweight.\")  \n",
    "elif BMI <= 24.9:  \n",
    "    print(\"You are healthy.\")  \n",
    "elif BMI <= 29.9:  \n",
    "    print(\"You are over weight.\")  \n",
    "else:  \n",
    "    print(\"You are obese.\")  \n",
    " "
   ]
  },
  {
   "cell_type": "markdown",
   "id": "fc47e6b6",
   "metadata": {},
   "source": [
    "# 4. Write a Python Program to calculate the natural logarithm of any number?"
   ]
  },
  {
   "cell_type": "code",
   "execution_count": 8,
   "id": "82721ce3",
   "metadata": {},
   "outputs": [
    {
     "name": "stdout",
     "output_type": "stream",
     "text": [
      "2.302585092994046\n"
     ]
    }
   ],
   "source": [
    "import math\n",
    "print(math.log(10))"
   ]
  },
  {
   "cell_type": "markdown",
   "id": "0faf71a9",
   "metadata": {},
   "source": [
    "# 5. Write a Python Program for cube sum of first n natural numbers?"
   ]
  },
  {
   "cell_type": "code",
   "execution_count": 7,
   "id": "c6d4b70d",
   "metadata": {},
   "outputs": [
    {
     "name": "stdout",
     "output_type": "stream",
     "text": [
      "enter any number: 6\n",
      "Sum of cubes of first 6 natural numbers:  441\n"
     ]
    }
   ],
   "source": [
    "def CubeSum(n) :\n",
    "    return (n*(n+1)//2)**2\n",
    "n=int(input(\"enter any number: \"))\n",
    "print(\"Sum of cubes of first {} natural numbers: \".format(n),CubeSum(n))"
   ]
  },
  {
   "cell_type": "code",
   "execution_count": null,
   "id": "00f15b56",
   "metadata": {},
   "outputs": [],
   "source": []
  }
 ],
 "metadata": {
  "kernelspec": {
   "display_name": "Python 3 (ipykernel)",
   "language": "python",
   "name": "python3"
  },
  "language_info": {
   "codemirror_mode": {
    "name": "ipython",
    "version": 3
   },
   "file_extension": ".py",
   "mimetype": "text/x-python",
   "name": "python",
   "nbconvert_exporter": "python",
   "pygments_lexer": "ipython3",
   "version": "3.9.12"
  }
 },
 "nbformat": 4,
 "nbformat_minor": 5
}
