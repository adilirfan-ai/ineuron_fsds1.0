{
 "cells": [
  {
   "cell_type": "markdown",
   "id": "6dcdbc36",
   "metadata": {},
   "source": [
    "# 1.Write a python program to convert kilometers to miles?"
   ]
  },
  {
   "cell_type": "code",
   "execution_count": 3,
   "id": "d839c545",
   "metadata": {},
   "outputs": [
    {
     "name": "stdout",
     "output_type": "stream",
     "text": [
      "enter the value:45\n",
      "45.0 km is converted into 27.9 miles\n"
     ]
    }
   ],
   "source": [
    "# conversion of km into miles\n",
    "km = float(input(\"enter the value:\"))\n",
    "mls = 0.62 * km\n",
    "print(km,\"km is converted into\",mls,\"miles\")"
   ]
  },
  {
   "cell_type": "markdown",
   "id": "29938a58",
   "metadata": {},
   "source": [
    "# 2. Write a python program to convert celsius to fahrenheit?"
   ]
  },
  {
   "cell_type": "code",
   "execution_count": 6,
   "id": "e028a6d6",
   "metadata": {},
   "outputs": [
    {
     "name": "stdout",
     "output_type": "stream",
     "text": [
      "enter the value:37\n",
      "37.0 Celsius is converted into 98.6 Fahrenheit\n"
     ]
    }
   ],
   "source": [
    "# Conversion of celsius into Fahrenheit\n",
    "cls = float(input(\"enter the value:\"))\n",
    "f = (cls * 9/5) + 32\n",
    "print(cls,\"Celsius is converted into\",f,\"Fahrenheit\")"
   ]
  },
  {
   "cell_type": "markdown",
   "id": "2990c915",
   "metadata": {},
   "source": [
    "# 3. Write a python program to display calender?"
   ]
  },
  {
   "cell_type": "code",
   "execution_count": 10,
   "id": "2bce4e09",
   "metadata": {},
   "outputs": [
    {
     "name": "stdout",
     "output_type": "stream",
     "text": [
      "enter the year:2022\n",
      "enter the month:9\n",
      "   September 2022\n",
      "Mo Tu We Th Fr Sa Su\n",
      "          1  2  3  4\n",
      " 5  6  7  8  9 10 11\n",
      "12 13 14 15 16 17 18\n",
      "19 20 21 22 23 24 25\n",
      "26 27 28 29 30\n",
      "\n"
     ]
    }
   ],
   "source": [
    "#importing calender module\n",
    "import calendar\n",
    "yy = int(input(\"enter the year:\"))\n",
    "mm = int(input(\"enter the month:\"))\n",
    "print(calendar.month(yy,mm))"
   ]
  },
  {
   "cell_type": "markdown",
   "id": "af6e0e2b",
   "metadata": {},
   "source": [
    "# 4. Write a python program to solve quadratic equation?"
   ]
  },
  {
   "cell_type": "code",
   "execution_count": 11,
   "id": "7a7df304",
   "metadata": {},
   "outputs": [
    {
     "name": "stdout",
     "output_type": "stream",
     "text": [
      "enter the value of a,b,c\n",
      "ax2 + bx + c = 0\n",
      "a:7\n",
      "b:4\n",
      "c:2\n",
      "[(-0.2857142857142857+0.45175395145262565j), (-0.2857142857142857-0.45175395145262565j)]\n"
     ]
    }
   ],
   "source": [
    "print(\"enter the value of a,b,c\")\n",
    "print('ax2 + bx + c = 0')\n",
    "a = float(input('a:'))\n",
    "b = float(input('b:'))\n",
    "c = float(input('c:'))\n",
    "dis = (b**2) - (4*a*c)\n",
    "answer = []\n",
    "num = [-b + dis**0.5, -b - dis**0.5]\n",
    "den = 2*a\n",
    "\n",
    "for i in range(2):\n",
    "    ans = num[i]/den\n",
    "    answer.append(ans)\n",
    "print(answer)\n",
    "    "
   ]
  },
  {
   "cell_type": "markdown",
   "id": "cb686356",
   "metadata": {},
   "source": [
    "# 5. Write a python program to swap two variables without temp varible?"
   ]
  },
  {
   "cell_type": "code",
   "execution_count": 13,
   "id": "58186430",
   "metadata": {},
   "outputs": [
    {
     "name": "stdout",
     "output_type": "stream",
     "text": [
      "enter the value of a:10\n",
      "enter the value of b:12\n",
      "a= 12.0\n",
      "b= 10.0\n"
     ]
    }
   ],
   "source": [
    "a = float(input(\"enter the value of a:\"))\n",
    "b = float(input(\"enter the value of b:\"))\n",
    "a,b = b,a\n",
    "print(\"a=\", a)\n",
    "print(\"b=\", b)"
   ]
  },
  {
   "cell_type": "code",
   "execution_count": null,
   "id": "f8c8e278",
   "metadata": {},
   "outputs": [],
   "source": []
  }
 ],
 "metadata": {
  "kernelspec": {
   "display_name": "Python 3 (ipykernel)",
   "language": "python",
   "name": "python3"
  },
  "language_info": {
   "codemirror_mode": {
    "name": "ipython",
    "version": 3
   },
   "file_extension": ".py",
   "mimetype": "text/x-python",
   "name": "python",
   "nbconvert_exporter": "python",
   "pygments_lexer": "ipython3",
   "version": "3.9.12"
  }
 },
 "nbformat": 4,
 "nbformat_minor": 5
}
