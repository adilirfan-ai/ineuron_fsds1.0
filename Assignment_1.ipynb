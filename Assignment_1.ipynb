{
 "cells": [
  {
   "cell_type": "markdown",
   "id": "0c17eca3",
   "metadata": {},
   "source": [
    "# Q1. In the below elements which of them are values or an expression? eg:- values can be integer or string and expressions will be mathematical operators."
   ]
  },
  {
   "cell_type": "markdown",
   "id": "34780b2c",
   "metadata": {},
   "source": [
    "Ans:int = 6, float = -87.8 , string = 'hello', operator = *,+,-,/"
   ]
  },
  {
   "cell_type": "markdown",
   "id": "9fe22789",
   "metadata": {},
   "source": [
    "# Q2. What is the difference between string and variable?"
   ]
  },
  {
   "cell_type": "markdown",
   "id": "53021f3a",
   "metadata": {},
   "source": [
    "Ans: String are built-in datatype. A string is a collection of one or more characters put in a single quote, double-quote or triple quote. In python there is no character data type, a character is a string of length one. It is represented by str class.\n",
    "Variables are symbols that you can use to store data in a program. You can think of them as an empty box that you fill with some data or value."
   ]
  },
  {
   "cell_type": "markdown",
   "id": "7a827ae4",
   "metadata": {},
   "source": [
    "# 3. Describe three different data types."
   ]
  },
  {
   "cell_type": "markdown",
   "id": "43df294e",
   "metadata": {},
   "source": [
    "Ans: Numbers --> Integer, Float, Complex Number\n",
    "Sequence Type --> String, List, Tuple\n",
    "Boolean\n",
    "Set\n",
    "Dictionary"
   ]
  },
  {
   "cell_type": "markdown",
   "id": "57a76def",
   "metadata": {},
   "source": [
    "# 4. What is an expression made up of? What do all expressions do?"
   ]
  },
  {
   "cell_type": "markdown",
   "id": "a6542d47",
   "metadata": {},
   "source": [
    "Ans: An expression is a combination of operators and operands that is interpreted to produce some other value. In any programming language, an expression is evaluated as per the precedence of its operators"
   ]
  },
  {
   "cell_type": "markdown",
   "id": "a4a20bf5",
   "metadata": {},
   "source": [
    "# 5. This assignment statements, like spam = 10. What is the difference between an expression and a statement?"
   ]
  },
  {
   "cell_type": "markdown",
   "id": "6cd62a08",
   "metadata": {},
   "source": [
    "Ans:  An Expression always evaluates to a value. And, A statement does something, like creating a variable or displaying a value, it only does whatever the statement says."
   ]
  },
  {
   "cell_type": "markdown",
   "id": "9266453b",
   "metadata": {},
   "source": [
    "# 6. After running the following code, what does the variable bacon contain?bacon = 22 bacon + 1"
   ]
  },
  {
   "cell_type": "markdown",
   "id": "e2711f09",
   "metadata": {},
   "source": [
    "Ans: 22"
   ]
  },
  {
   "cell_type": "markdown",
   "id": "48dc3562",
   "metadata": {},
   "source": [
    "# 7. What should the values of the following two terms be?\n"
   ]
  },
  {
   "cell_type": "markdown",
   "id": "48f71cf2",
   "metadata": {},
   "source": [
    "Ans: spamspamspam"
   ]
  },
  {
   "cell_type": "markdown",
   "id": "01cf360f",
   "metadata": {},
   "source": [
    "# 8. Why is eggs a valid variable name while 100 is invalid?"
   ]
  },
  {
   "cell_type": "markdown",
   "id": "1a807718",
   "metadata": {},
   "source": [
    "Ans: A variable name must start with a letter or the underscore character. A variable name cannot start with a number. "
   ]
  },
  {
   "cell_type": "markdown",
   "id": "2032e261",
   "metadata": {},
   "source": [
    "# 9. What three functions can be used to get the integer, floating-point number, or string version of a value?"
   ]
  },
  {
   "cell_type": "markdown",
   "id": "5d913006",
   "metadata": {},
   "source": [
    "Ans: int() , float() , str()"
   ]
  },
  {
   "cell_type": "markdown",
   "id": "e50c2c7e",
   "metadata": {},
   "source": [
    "# 10. Why does this expression cause an error? How can you fix it? 'I have eaten'+ 99 +'burritos.'"
   ]
  },
  {
   "cell_type": "markdown",
   "id": "3848b3fa",
   "metadata": {},
   "source": [
    "Ans: concatenation of string not integer"
   ]
  },
  {
   "cell_type": "code",
   "execution_count": null,
   "id": "7ad3a3f4",
   "metadata": {},
   "outputs": [],
   "source": []
  }
 ],
 "metadata": {
  "kernelspec": {
   "display_name": "Python 3 (ipykernel)",
   "language": "python",
   "name": "python3"
  },
  "language_info": {
   "codemirror_mode": {
    "name": "ipython",
    "version": 3
   },
   "file_extension": ".py",
   "mimetype": "text/x-python",
   "name": "python",
   "nbconvert_exporter": "python",
   "pygments_lexer": "ipython3",
   "version": "3.9.12"
  }
 },
 "nbformat": 4,
 "nbformat_minor": 5
}
