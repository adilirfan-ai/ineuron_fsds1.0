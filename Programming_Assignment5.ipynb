{
 "cells": [
  {
   "cell_type": "markdown",
   "id": "1e472b9d",
   "metadata": {},
   "source": [
    "# Write a python program to find lcm?"
   ]
  },
  {
   "cell_type": "code",
   "execution_count": 1,
   "id": "18769067",
   "metadata": {},
   "outputs": [
    {
     "name": "stdout",
     "output_type": "stream",
     "text": [
      "enter the first number:17\n",
      "enter the second number:19\n",
      "LCM of 17 and 19 is 323\n"
     ]
    }
   ],
   "source": [
    "#Find the lcm of two number\n",
    "x = int(input(\"enter the first number:\"))\n",
    "y = int(input(\"enter the second number:\"))\n",
    "\n",
    "if x > y :\n",
    "    greater = x\n",
    "else :\n",
    "    greater = y\n",
    "\n",
    "while True:\n",
    "    if greater % x == 0 and greater % y == 0:\n",
    "        lcm = greater\n",
    "        break\n",
    "    greater += 1\n",
    "\n",
    "print(\"LCM of\",x,\"and\",y,\"is\",lcm)\n",
    "    "
   ]
  },
  {
   "cell_type": "markdown",
   "id": "c26cebf4",
   "metadata": {},
   "source": [
    "# 2.Write a python program to find HCF?"
   ]
  },
  {
   "cell_type": "code",
   "execution_count": 2,
   "id": "30f16ab8",
   "metadata": {},
   "outputs": [
    {
     "name": "stdout",
     "output_type": "stream",
     "text": [
      "enter the first number:15\n",
      "enter the second number:35\n",
      "HCF of 15 and 35 is 5\n"
     ]
    }
   ],
   "source": [
    "x = int(input(\"enter the first number:\"))\n",
    "y = int(input(\"enter the second number:\"))\n",
    "\n",
    "if x > y:\n",
    "    smaller = y\n",
    "else:\n",
    "    smaller = x\n",
    "for i in range(1, smaller+1):\n",
    "    if x % i == 0 and y % i == 0:\n",
    "        hcf = i\n",
    "\n",
    "print(\"HCF of\",x,\"and\",y,\"is\",hcf)"
   ]
  },
  {
   "cell_type": "markdown",
   "id": "61412134",
   "metadata": {},
   "source": [
    "# 3.Write a Python Program to Convert Decimal to Binary, Octal and Hexadecimal?"
   ]
  },
  {
   "cell_type": "code",
   "execution_count": 8,
   "id": "23ee321f",
   "metadata": {},
   "outputs": [
    {
     "name": "stdout",
     "output_type": "stream",
     "text": [
      "enter the value:756\n",
      "The decimal value of 756 is:\n",
      "0b1011110100 in binary.\n",
      "0o1364 in octal.\n",
      "0x2f4 in hexadecimal.\n"
     ]
    }
   ],
   "source": [
    "dec = int(input(\"enter the value:\"))\n",
    "\n",
    "print(\"The decimal value of\", dec, \"is:\")\n",
    "print(bin(dec), \"in binary.\")\n",
    "print(oct(dec), \"in octal.\")\n",
    "print(hex(dec), \"in hexadecimal.\")\n"
   ]
  },
  {
   "cell_type": "markdown",
   "id": "ea351ba3",
   "metadata": {},
   "source": [
    "# 4. Write a Python Program To Find ASCII value of a character?"
   ]
  },
  {
   "cell_type": "code",
   "execution_count": 9,
   "id": "c7bc5e1c",
   "metadata": {},
   "outputs": [
    {
     "name": "stdout",
     "output_type": "stream",
     "text": [
      "enter any character:k\n",
      "The ASCII value of 'k' is 107\n"
     ]
    }
   ],
   "source": [
    "c = input(\"enter any character:\")\n",
    "print(\"The ASCII value of '\" + c + \"' is\", ord(c))"
   ]
  },
  {
   "cell_type": "markdown",
   "id": "d00583f2",
   "metadata": {},
   "source": [
    "# 5. Write a Python Program to Make a Simple Calculator with 4 basic mathematical operations?"
   ]
  },
  {
   "cell_type": "code",
   "execution_count": null,
   "id": "4ef7af09",
   "metadata": {},
   "outputs": [
    {
     "name": "stdout",
     "output_type": "stream",
     "text": [
      "Select operation.\n",
      "1.Add\n",
      "2.Subtract\n",
      "3.Multiply\n",
      "4.Divide\n",
      "Enter one choice(1/2/3/4): 3\n",
      "Enter first number: 3\n",
      "Enter second number: 5\n",
      "3.0 * 5.0 = 15.0\n"
     ]
    }
   ],
   "source": [
    "def add(x, y):\n",
    "    return x + y\n",
    "\n",
    "def subtract(x, y):\n",
    "    return x - y\n",
    "\n",
    "def multiply(x, y):\n",
    "    return x * y\n",
    "\n",
    "def divide(x, y):\n",
    "    return x / y\n",
    "\n",
    "\n",
    "print(\"Select operation.\")\n",
    "print(\"1.Add\")\n",
    "print(\"2.Subtract\")\n",
    "print(\"3.Multiply\")\n",
    "print(\"4.Divide\")\n",
    "\n",
    "while True:\n",
    "    choice = input(\"Enter one choice(1/2/3/4): \")\n",
    "\n",
    "    if choice in ('1', '2', '3', '4'):\n",
    "        num1 = float(input(\"Enter first number: \"))\n",
    "        num2 = float(input(\"Enter second number: \"))\n",
    "\n",
    "        if choice == '1':\n",
    "            print(num1, \"+\", num2, \"=\", add(num1, num2))\n",
    "\n",
    "        elif choice == '2':\n",
    "            print(num1, \"-\", num2, \"=\", subtract(num1, num2))\n",
    "\n",
    "        elif choice == '3':\n",
    "            print(num1, \"*\", num2, \"=\", multiply(num1, num2))\n",
    "\n",
    "        elif choice == '4':\n",
    "            print(num1, \"/\", num2, \"=\", divide(num1, num2))\n",
    "        \n",
    "        next_calculation = input(\"Let's do next calculation? (yes/no): \")\n",
    "        if next_calculation == \"no\":\n",
    "          break\n",
    "    \n",
    "    else:\n",
    "        print(\"Invalid Input\")\n",
    "    "
   ]
  },
  {
   "cell_type": "code",
   "execution_count": null,
   "id": "357689cb",
   "metadata": {},
   "outputs": [],
   "source": []
  }
 ],
 "metadata": {
  "kernelspec": {
   "display_name": "Python 3 (ipykernel)",
   "language": "python",
   "name": "python3"
  },
  "language_info": {
   "codemirror_mode": {
    "name": "ipython",
    "version": 3
   },
   "file_extension": ".py",
   "mimetype": "text/x-python",
   "name": "python",
   "nbconvert_exporter": "python",
   "pygments_lexer": "ipython3",
   "version": "3.9.12"
  }
 },
 "nbformat": 4,
 "nbformat_minor": 5
}
