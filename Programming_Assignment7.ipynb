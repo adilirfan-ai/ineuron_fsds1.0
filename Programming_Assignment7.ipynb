{
 "cells": [
  {
   "cell_type": "markdown",
   "id": "2175deec",
   "metadata": {},
   "source": [
    "# 1. Write a Python Program to find sum of array?"
   ]
  },
  {
   "cell_type": "code",
   "execution_count": 2,
   "id": "7d21e962",
   "metadata": {},
   "outputs": [
    {
     "name": "stdout",
     "output_type": "stream",
     "text": [
      "enter the element of list:1,2,3,4\n",
      "10\n"
     ]
    }
   ],
   "source": [
    "def sum_of_arr(a):\n",
    "    sum = 0\n",
    "    for i in a:\n",
    "        sum += i\n",
    "    return sum\n",
    "\n",
    "lst = input(\"enter the element of list:\").split(',')\n",
    "a =[int(i) for i in lst]\n",
    "\n",
    "res = sum_of_arr(a)\n",
    "print(res) "
   ]
  },
  {
   "cell_type": "markdown",
   "id": "de6180f9",
   "metadata": {},
   "source": [
    "# 2. Write a Python Program to find largest element in an array?"
   ]
  },
  {
   "cell_type": "code",
   "execution_count": 3,
   "id": "b4bd8261",
   "metadata": {},
   "outputs": [
    {
     "name": "stdout",
     "output_type": "stream",
     "text": [
      "enter the values:65,34,75,98,34,56\n",
      "Largest element present in given array: 98\n"
     ]
    }
   ],
   "source": [
    "lst = input(\"enter the values:\").split(',')\n",
    "arr = [int(x) for x in lst]\n",
    "         \n",
    "max = arr[0];    \n",
    "    \n",
    "for i in range(0, len(arr)):       \n",
    "   if(arr[i] > max):    \n",
    "       max = arr[i];    \n",
    "           \n",
    "print(\"Largest element present in given array: \" + str(max));   \n"
   ]
  },
  {
   "cell_type": "markdown",
   "id": "db0d9422",
   "metadata": {},
   "source": [
    "# 3. Write a Python Program for array rotation?"
   ]
  },
  {
   "cell_type": "code",
   "execution_count": 14,
   "id": "6dab6f40",
   "metadata": {},
   "outputs": [
    {
     "name": "stdout",
     "output_type": "stream",
     "text": [
      "enter the value in list:1,2,3,4,5,6,7,8,9\n",
      "enter the value of rotation:2\n",
      "Array after left rotation is:  [3, 4, 5, 6, 7, 8, 9, 1, 2]\n"
     ]
    }
   ],
   "source": [
    "def rotate_array(a,d):\n",
    "    temp = []\n",
    "    n=len(a)\n",
    "    for i in range(d,n):\n",
    "        temp.append(a[i])\n",
    "    i = 0\n",
    "    for i in range (0,d):\n",
    "        temp.append(a[i])\n",
    "    a=temp.copy()\n",
    "    return a\n",
    "\n",
    "a = input(\"enter the value in list:\").split(',')\n",
    "d = int(input(\"enter the value of rotation:\"))\n",
    "arr = [int(x) for x in a]\n",
    "\n",
    "print(\"Array after left rotation is: \", end=' ')\n",
    "print(rotate_array(arr, d))"
   ]
  },
  {
   "cell_type": "markdown",
   "id": "2bcb3212",
   "metadata": {},
   "source": [
    "# 4. Write a Python Program to Split the array and add the first part to the end?"
   ]
  },
  {
   "cell_type": "code",
   "execution_count": 16,
   "id": "63b81b44",
   "metadata": {},
   "outputs": [
    {
     "name": "stdout",
     "output_type": "stream",
     "text": [
      "enter the value in list:1,2,3,4,5,6\n",
      "enter the position:3\n",
      "4 5 6 1 2 3 "
     ]
    }
   ],
   "source": [
    "def split_array(arr, n, k):\n",
    "    for i in range(0, k):\n",
    "        x = arr[0]\n",
    "        for j in range(0, n-1):\n",
    "            arr[j] = arr[j + 1]\n",
    "\n",
    "        arr[n-1] = x\n",
    "num = input('enter the value in list:').split(',')\n",
    "arr = [int(i) for i in num]\n",
    "n = len(arr)\n",
    "position = int(input(\"enter the position:\"))\n",
    "split_array(arr, n, position)\n",
    "for i in range(0, n):\n",
    "    print(arr[i], end = ' ')"
   ]
  },
  {
   "cell_type": "markdown",
   "id": "443973b2",
   "metadata": {},
   "source": [
    "# 5. Write a Python Program to check if given array is Monotonic?"
   ]
  },
  {
   "cell_type": "code",
   "execution_count": 27,
   "id": "77dfc807",
   "metadata": {},
   "outputs": [
    {
     "name": "stdout",
     "output_type": "stream",
     "text": [
      "enter the value of list:1,2,3\n",
      "True\n"
     ]
    }
   ],
   "source": [
    "def is_monotonic(A):\n",
    "    return (all(A[i] <= A[i + 1] for i in range(len(A) - 1)) or all(A[i] >= A[i + 1] for i in range(len(A) - 1)))\n",
    " \n",
    "num = input(\"enter the value of list:\").split(',') \n",
    "A = [int(i) for i in num]\n",
    "print(is_monotonic(A))"
   ]
  },
  {
   "cell_type": "code",
   "execution_count": null,
   "id": "526da7a2",
   "metadata": {},
   "outputs": [],
   "source": []
  }
 ],
 "metadata": {
  "kernelspec": {
   "display_name": "Python 3 (ipykernel)",
   "language": "python",
   "name": "python3"
  },
  "language_info": {
   "codemirror_mode": {
    "name": "ipython",
    "version": 3
   },
   "file_extension": ".py",
   "mimetype": "text/x-python",
   "name": "python",
   "nbconvert_exporter": "python",
   "pygments_lexer": "ipython3",
   "version": "3.9.12"
  }
 },
 "nbformat": 4,
 "nbformat_minor": 5
}
