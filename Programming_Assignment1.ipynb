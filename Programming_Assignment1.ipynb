{
 "cells": [
  {
   "cell_type": "markdown",
   "id": "5fe5a726",
   "metadata": {},
   "source": [
    "# 1. Write a python program to print \"Hello Python\"?"
   ]
  },
  {
   "cell_type": "code",
   "execution_count": 1,
   "id": "ee2773be",
   "metadata": {},
   "outputs": [
    {
     "name": "stdout",
     "output_type": "stream",
     "text": [
      "Hello Python\n"
     ]
    }
   ],
   "source": [
    "print(\"Hello Python\")"
   ]
  },
  {
   "cell_type": "markdown",
   "id": "b8014f03",
   "metadata": {},
   "source": [
    "# 2. Write a python program to do arithmetical addition and division?"
   ]
  },
  {
   "cell_type": "code",
   "execution_count": 3,
   "id": "50afde6f",
   "metadata": {},
   "outputs": [
    {
     "name": "stdout",
     "output_type": "stream",
     "text": [
      "enter the first number:2\n",
      "enter the second number:5\n",
      "7\n",
      "0.4\n"
     ]
    }
   ],
   "source": [
    "a = int(input(\"enter the first number:\"))\n",
    "b = int(input(\"enter the second number:\"))\n",
    "print(a + b)\n",
    "print(a / b)"
   ]
  },
  {
   "cell_type": "markdown",
   "id": "ef1042f4",
   "metadata": {},
   "source": [
    "# 3. Write a python program to find the area of triangle?"
   ]
  },
  {
   "cell_type": "code",
   "execution_count": 4,
   "id": "6d88a59c",
   "metadata": {},
   "outputs": [
    {
     "name": "stdout",
     "output_type": "stream",
     "text": [
      "enter the first side of a triangle:5\n",
      "enter the another side of a triangle:4\n",
      "The area of triangle is 10.0\n"
     ]
    }
   ],
   "source": [
    "a = int(input(\"enter the first side of a triangle:\"))\n",
    "b = int(input(\"enter the another side of a triangle:\"))\n",
    "area = (a * b)/2\n",
    "print(\"The area of triangle is\", area)"
   ]
  },
  {
   "cell_type": "markdown",
   "id": "46774587",
   "metadata": {},
   "source": [
    "# 4. Write a python program to swap two variables?"
   ]
  },
  {
   "cell_type": "code",
   "execution_count": 6,
   "id": "3a55c533",
   "metadata": {},
   "outputs": [
    {
     "name": "stdout",
     "output_type": "stream",
     "text": [
      "enter the first value a:14\n",
      "enter the second value b:16\n",
      "a= 16\n",
      "b= 14\n"
     ]
    }
   ],
   "source": [
    "a = int(input(\"enter the first value a:\"))\n",
    "b = int(input(\"enter the second value b:\"))\n",
    "a,b = b,a\n",
    "print('a=',a)\n",
    "print('b=',b)"
   ]
  },
  {
   "cell_type": "markdown",
   "id": "24f62d77",
   "metadata": {},
   "source": [
    "# 5. Write a python program to generate a random number?"
   ]
  },
  {
   "cell_type": "code",
   "execution_count": 8,
   "id": "baf3feed",
   "metadata": {},
   "outputs": [
    {
     "name": "stdout",
     "output_type": "stream",
     "text": [
      "22\n"
     ]
    }
   ],
   "source": [
    "import random\n",
    "r = random.randint(1,100)\n",
    "print(r)"
   ]
  },
  {
   "cell_type": "code",
   "execution_count": null,
   "id": "58f51ad9",
   "metadata": {},
   "outputs": [],
   "source": []
  }
 ],
 "metadata": {
  "kernelspec": {
   "display_name": "Python 3 (ipykernel)",
   "language": "python",
   "name": "python3"
  },
  "language_info": {
   "codemirror_mode": {
    "name": "ipython",
    "version": 3
   },
   "file_extension": ".py",
   "mimetype": "text/x-python",
   "name": "python",
   "nbconvert_exporter": "python",
   "pygments_lexer": "ipython3",
   "version": "3.9.12"
  }
 },
 "nbformat": 4,
 "nbformat_minor": 5
}
