{
 "cells": [
  {
   "cell_type": "markdown",
   "id": "4edc3a30",
   "metadata": {},
   "source": [
    "# 1. Write a Python program to find words which are greater than given length k?"
   ]
  },
  {
   "cell_type": "code",
   "execution_count": 1,
   "id": "3dcb25f3",
   "metadata": {},
   "outputs": [
    {
     "name": "stdout",
     "output_type": "stream",
     "text": [
      "['Time', 'is', 'the', 'best', 'healer']\n",
      "Time\n",
      "best\n",
      "healer\n"
     ]
    }
   ],
   "source": [
    "def word_k(k, s):    \n",
    "    word = s.split(\" \")\n",
    "    print(word)\n",
    "    \n",
    "    for x in word:\n",
    "        if len(x)>k:\n",
    "          print(x)\n",
    "k = 3\n",
    "s =\"Time is the best healer\"\n",
    "word_k(k, s)"
   ]
  },
  {
   "cell_type": "markdown",
   "id": "0e8229e7",
   "metadata": {},
   "source": [
    "# 2.Write a Python program for removing i-th character from a string?"
   ]
  },
  {
   "cell_type": "code",
   "execution_count": 6,
   "id": "15e16f58",
   "metadata": {},
   "outputs": [
    {
     "name": "stdout",
     "output_type": "stream",
     "text": [
      "It alwaysseems impossible until it is done\n"
     ]
    }
   ],
   "source": [
    "def remove_char(s, i):\n",
    "    a = s[ : i]\n",
    "    b = s[i + 1: ]\n",
    "\n",
    "    return a+b\n",
    "\n",
    "string = \"It always seems impossible until it is done\"\n",
    "i = 10\n",
    "print(remove_char(string,i-1))"
   ]
  },
  {
   "cell_type": "markdown",
   "id": "35691d7a",
   "metadata": {},
   "source": [
    "# 3.Write a Python program to split and join a string?"
   ]
  },
  {
   "cell_type": "code",
   "execution_count": 10,
   "id": "f3ba697d",
   "metadata": {},
   "outputs": [
    {
     "name": "stdout",
     "output_type": "stream",
     "text": [
      "After splitting: ['Welcome to the world of Artificial Intelligence!!']\n",
      "After joining: Welcome to the world of Artificial Intelligence!!\n"
     ]
    }
   ],
   "source": [
    "def split_str(str):\n",
    "    list_str = str.split(',')\n",
    "    return list_str\n",
    "    \n",
    "str = \"Welcome to the world of Artificial Intelligence!!\"\n",
    "\n",
    "list_str = split_str(str)\n",
    "print(\"After splitting:\",list_str)\n",
    "\n",
    "def join_str(list_str):\n",
    "    word = ' '.join(list_str)\n",
    "    return word\n",
    "word = join_str(list_str)\n",
    "print(\"After joining:\",word)"
   ]
  },
  {
   "cell_type": "markdown",
   "id": "08badee1",
   "metadata": {},
   "source": [
    "# 4.Write a Python to check if a given string is binary string or not?"
   ]
  },
  {
   "cell_type": "code",
   "execution_count": 12,
   "id": "e6d5f7c3",
   "metadata": {},
   "outputs": [
    {
     "name": "stdout",
     "output_type": "stream",
     "text": [
      "Binary String\n",
      "Non Binary String\n"
     ]
    }
   ],
   "source": [
    "def bin_check(string) :\n",
    "    b = set(string)\n",
    "    s = {'0', '1'}\n",
    "    if s == b or b == {'0'} or b == {'1'}:\n",
    "        print(\"Binary String\")\n",
    "    else :\n",
    "        print(\"Non Binary String\")\n",
    "  \n",
    "s1= \"00110101\"\n",
    "\n",
    "bin_check(s1)\n",
    "s2 = \"1010100200111\"\n",
    "bin_check(s2)"
   ]
  },
  {
   "cell_type": "markdown",
   "id": "c2bb727d",
   "metadata": {},
   "source": [
    "# 5.Write a Python program to find uncommon words from two Strings?"
   ]
  },
  {
   "cell_type": "code",
   "execution_count": 14,
   "id": "14de0f1a",
   "metadata": {},
   "outputs": [
    {
     "name": "stdout",
     "output_type": "stream",
     "text": [
      " MS Dhoni captain Virat Kohli batsman\n"
     ]
    }
   ],
   "source": [
    "def uncommon(s1,s2):\n",
    "    list_s1 = s1.split()\n",
    "    list_s2 = s2.split()\n",
    "    \n",
    "    uc_words = \"\"\n",
    "    \n",
    "    for i in list_s1:\n",
    "        if i not in list_s2:\n",
    "            uc_words =  uc_words+\" \"+i\n",
    "            \n",
    "    for j in list_s2:\n",
    "        if j not in list_s1:\n",
    "             uc_words =  uc_words+\" \"+j\n",
    "  \n",
    "    return  uc_words\n",
    "  \n",
    "\n",
    "a = \"MS Dhoni is the best captain in the world\"\n",
    "b = \"Virat Kohli is the best batsman in the world\"\n",
    "print(uncommon(a,b))"
   ]
  },
  {
   "cell_type": "markdown",
   "id": "990304a9",
   "metadata": {},
   "source": [
    "# 6. Write a Python to find all duplicate characters in string?"
   ]
  },
  {
   "cell_type": "code",
   "execution_count": null,
   "id": "c646ee02",
   "metadata": {},
   "outputs": [],
   "source": []
  },
  {
   "cell_type": "markdown",
   "id": "ccb5d6de",
   "metadata": {},
   "source": [
    "# 7.Write a Python Program to check if a string contains any special character?"
   ]
  },
  {
   "cell_type": "code",
   "execution_count": null,
   "id": "86d059cf",
   "metadata": {},
   "outputs": [],
   "source": []
  }
 ],
 "metadata": {
  "kernelspec": {
   "display_name": "Python 3 (ipykernel)",
   "language": "python",
   "name": "python3"
  },
  "language_info": {
   "codemirror_mode": {
    "name": "ipython",
    "version": 3
   },
   "file_extension": ".py",
   "mimetype": "text/x-python",
   "name": "python",
   "nbconvert_exporter": "python",
   "pygments_lexer": "ipython3",
   "version": "3.9.12"
  }
 },
 "nbformat": 4,
 "nbformat_minor": 5
}
